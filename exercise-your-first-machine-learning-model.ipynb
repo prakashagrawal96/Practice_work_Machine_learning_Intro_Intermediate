{
 "cells": [
  {
   "cell_type": "markdown",
   "id": "427f2820",
   "metadata": {
    "papermill": {
     "duration": 0.016071,
     "end_time": "2022-05-03T08:23:49.257998",
     "exception": false,
     "start_time": "2022-05-03T08:23:49.241927",
     "status": "completed"
    },
    "tags": []
   },
   "source": [
    "**This notebook is an exercise in the [Introduction to Machine Learning](https://www.kaggle.com/learn/intro-to-machine-learning) course.  You can reference the tutorial at [this link](https://www.kaggle.com/dansbecker/your-first-machine-learning-model).**\n",
    "\n",
    "---\n"
   ]
  },
  {
   "cell_type": "markdown",
   "id": "bc7d8463",
   "metadata": {
    "papermill": {
     "duration": 0.013661,
     "end_time": "2022-05-03T08:23:49.286890",
     "exception": false,
     "start_time": "2022-05-03T08:23:49.273229",
     "status": "completed"
    },
    "tags": []
   },
   "source": [
    "## Recap\n",
    "So far, you have loaded your data and reviewed it with the following code. Run this cell to set up your coding environment where the previous step left off."
   ]
  },
  {
   "cell_type": "code",
   "execution_count": 1,
   "id": "6a9dc050",
   "metadata": {
    "execution": {
     "iopub.execute_input": "2022-05-03T08:23:49.317160Z",
     "iopub.status.busy": "2022-05-03T08:23:49.316553Z",
     "iopub.status.idle": "2022-05-03T08:23:50.819443Z",
     "shell.execute_reply": "2022-05-03T08:23:50.818346Z"
    },
    "papermill": {
     "duration": 1.521901,
     "end_time": "2022-05-03T08:23:50.822792",
     "exception": false,
     "start_time": "2022-05-03T08:23:49.300891",
     "status": "completed"
    },
    "tags": []
   },
   "outputs": [
    {
     "name": "stdout",
     "output_type": "stream",
     "text": [
      "Setup Complete\n"
     ]
    }
   ],
   "source": [
    "# Code you have previously used to load data\n",
    "import pandas as pd\n",
    "\n",
    "# Path of the file to read\n",
    "iowa_file_path = '../input/home-data-for-ml-course/train.csv'\n",
    "\n",
    "home_data = pd.read_csv(iowa_file_path)\n",
    "\n",
    "# Set up code checking\n",
    "from learntools.core import binder\n",
    "binder.bind(globals())\n",
    "from learntools.machine_learning.ex3 import *\n",
    "\n",
    "print(\"Setup Complete\")"
   ]
  },
  {
   "cell_type": "markdown",
   "id": "a7139d49",
   "metadata": {
    "papermill": {
     "duration": 0.014623,
     "end_time": "2022-05-03T08:23:50.855323",
     "exception": false,
     "start_time": "2022-05-03T08:23:50.840700",
     "status": "completed"
    },
    "tags": []
   },
   "source": [
    "# Exercises\n",
    "\n",
    "## Step 1: Specify Prediction Target\n",
    "Select the target variable, which corresponds to the sales price. Save this to a new variable called `y`. You'll need to print a list of the columns to find the name of the column you need.\n"
   ]
  },
  {
   "cell_type": "code",
   "execution_count": 2,
   "id": "db9e3648",
   "metadata": {
    "execution": {
     "iopub.execute_input": "2022-05-03T08:23:50.887979Z",
     "iopub.status.busy": "2022-05-03T08:23:50.887620Z",
     "iopub.status.idle": "2022-05-03T08:23:50.897229Z",
     "shell.execute_reply": "2022-05-03T08:23:50.896302Z"
    },
    "papermill": {
     "duration": 0.029225,
     "end_time": "2022-05-03T08:23:50.900111",
     "exception": false,
     "start_time": "2022-05-03T08:23:50.870886",
     "status": "completed"
    },
    "tags": []
   },
   "outputs": [
    {
     "data": {
      "text/plain": [
       "Index(['Id', 'MSSubClass', 'MSZoning', 'LotFrontage', 'LotArea', 'Street',\n",
       "       'Alley', 'LotShape', 'LandContour', 'Utilities', 'LotConfig',\n",
       "       'LandSlope', 'Neighborhood', 'Condition1', 'Condition2', 'BldgType',\n",
       "       'HouseStyle', 'OverallQual', 'OverallCond', 'YearBuilt', 'YearRemodAdd',\n",
       "       'RoofStyle', 'RoofMatl', 'Exterior1st', 'Exterior2nd', 'MasVnrType',\n",
       "       'MasVnrArea', 'ExterQual', 'ExterCond', 'Foundation', 'BsmtQual',\n",
       "       'BsmtCond', 'BsmtExposure', 'BsmtFinType1', 'BsmtFinSF1',\n",
       "       'BsmtFinType2', 'BsmtFinSF2', 'BsmtUnfSF', 'TotalBsmtSF', 'Heating',\n",
       "       'HeatingQC', 'CentralAir', 'Electrical', '1stFlrSF', '2ndFlrSF',\n",
       "       'LowQualFinSF', 'GrLivArea', 'BsmtFullBath', 'BsmtHalfBath', 'FullBath',\n",
       "       'HalfBath', 'BedroomAbvGr', 'KitchenAbvGr', 'KitchenQual',\n",
       "       'TotRmsAbvGrd', 'Functional', 'Fireplaces', 'FireplaceQu', 'GarageType',\n",
       "       'GarageYrBlt', 'GarageFinish', 'GarageCars', 'GarageArea', 'GarageQual',\n",
       "       'GarageCond', 'PavedDrive', 'WoodDeckSF', 'OpenPorchSF',\n",
       "       'EnclosedPorch', '3SsnPorch', 'ScreenPorch', 'PoolArea', 'PoolQC',\n",
       "       'Fence', 'MiscFeature', 'MiscVal', 'MoSold', 'YrSold', 'SaleType',\n",
       "       'SaleCondition', 'SalePrice'],\n",
       "      dtype='object')"
      ]
     },
     "execution_count": 2,
     "metadata": {},
     "output_type": "execute_result"
    }
   ],
   "source": [
    "# print the list of columns in the dataset to find the name of the prediction target\n",
    "y=home_data.columns\n",
    "y"
   ]
  },
  {
   "cell_type": "code",
   "execution_count": 3,
   "id": "271ac6eb",
   "metadata": {
    "execution": {
     "iopub.execute_input": "2022-05-03T08:23:50.933073Z",
     "iopub.status.busy": "2022-05-03T08:23:50.932436Z",
     "iopub.status.idle": "2022-05-03T08:23:50.946610Z",
     "shell.execute_reply": "2022-05-03T08:23:50.945503Z"
    },
    "papermill": {
     "duration": 0.033352,
     "end_time": "2022-05-03T08:23:50.948704",
     "exception": false,
     "start_time": "2022-05-03T08:23:50.915352",
     "status": "completed"
    },
    "tags": []
   },
   "outputs": [
    {
     "data": {
      "application/javascript": [
       "parent.postMessage({\"jupyterEvent\": \"custom.exercise_interaction\", \"data\": {\"outcomeType\": 1, \"valueTowardsCompletion\": 0.25, \"interactionType\": 1, \"questionType\": 2, \"questionId\": \"1_SetTarget\", \"learnToolsVersion\": \"0.3.4\", \"failureMessage\": \"\", \"exceptionClass\": \"\", \"trace\": \"\"}}, \"*\")"
      ],
      "text/plain": [
       "<IPython.core.display.Javascript object>"
      ]
     },
     "metadata": {},
     "output_type": "display_data"
    },
    {
     "data": {
      "text/markdown": [
       "<span style=\"color:#33cc33\">Correct</span>"
      ],
      "text/plain": [
       "Correct"
      ]
     },
     "metadata": {},
     "output_type": "display_data"
    }
   ],
   "source": [
    "y = home_data.SalePrice\n",
    "\n",
    "# Check your answer\n",
    "step_1.check()"
   ]
  },
  {
   "cell_type": "code",
   "execution_count": 4,
   "id": "19a6b6cf",
   "metadata": {
    "execution": {
     "iopub.execute_input": "2022-05-03T08:23:50.984908Z",
     "iopub.status.busy": "2022-05-03T08:23:50.984355Z",
     "iopub.status.idle": "2022-05-03T08:23:50.987558Z",
     "shell.execute_reply": "2022-05-03T08:23:50.986857Z"
    },
    "papermill": {
     "duration": 0.023727,
     "end_time": "2022-05-03T08:23:50.989510",
     "exception": false,
     "start_time": "2022-05-03T08:23:50.965783",
     "status": "completed"
    },
    "tags": []
   },
   "outputs": [],
   "source": [
    "# The lines below will show you a hint or the solution.\n",
    "# step_1.hint() \n",
    "# step_1.solution()"
   ]
  },
  {
   "cell_type": "markdown",
   "id": "401c8d34",
   "metadata": {
    "papermill": {
     "duration": 0.015582,
     "end_time": "2022-05-03T08:23:51.021747",
     "exception": false,
     "start_time": "2022-05-03T08:23:51.006165",
     "status": "completed"
    },
    "tags": []
   },
   "source": [
    "## Step 2: Create X\n",
    "Now you will create a DataFrame called `X` holding the predictive features.\n",
    "\n",
    "Since you want only some columns from the original data, you'll first create a list with the names of the columns you want in `X`.\n",
    "\n",
    "You'll use just the following columns in the list (you can copy and paste the whole list to save some typing, though you'll still need to add quotes):\n",
    "  * LotArea\n",
    "  * YearBuilt\n",
    "  * 1stFlrSF\n",
    "  * 2ndFlrSF\n",
    "  * FullBath\n",
    "  * BedroomAbvGr\n",
    "  * TotRmsAbvGrd\n",
    "\n",
    "After you've created that list of features, use it to create the DataFrame that you'll use to fit the model."
   ]
  },
  {
   "cell_type": "code",
   "execution_count": 5,
   "id": "ad2e27a7",
   "metadata": {
    "execution": {
     "iopub.execute_input": "2022-05-03T08:23:51.058450Z",
     "iopub.status.busy": "2022-05-03T08:23:51.058121Z",
     "iopub.status.idle": "2022-05-03T08:23:51.071361Z",
     "shell.execute_reply": "2022-05-03T08:23:51.070695Z"
    },
    "papermill": {
     "duration": 0.03564,
     "end_time": "2022-05-03T08:23:51.073172",
     "exception": false,
     "start_time": "2022-05-03T08:23:51.037532",
     "status": "completed"
    },
    "tags": []
   },
   "outputs": [
    {
     "data": {
      "application/javascript": [
       "parent.postMessage({\"jupyterEvent\": \"custom.exercise_interaction\", \"data\": {\"outcomeType\": 1, \"valueTowardsCompletion\": 0.25, \"interactionType\": 1, \"questionType\": 2, \"questionId\": \"2_SelectPredictionData\", \"learnToolsVersion\": \"0.3.4\", \"failureMessage\": \"\", \"exceptionClass\": \"\", \"trace\": \"\"}}, \"*\")"
      ],
      "text/plain": [
       "<IPython.core.display.Javascript object>"
      ]
     },
     "metadata": {},
     "output_type": "display_data"
    },
    {
     "data": {
      "text/markdown": [
       "<span style=\"color:#33cc33\">Correct</span>"
      ],
      "text/plain": [
       "Correct"
      ]
     },
     "metadata": {},
     "output_type": "display_data"
    }
   ],
   "source": [
    "# Create the list of features below\n",
    "feature_names = [\"LotArea\", \"YearBuilt\", \"1stFlrSF\", \"2ndFlrSF\", \"FullBath\", \"BedroomAbvGr\", \"TotRmsAbvGrd\"]\n",
    "\n",
    "# Select data corresponding to features in feature_names\n",
    "X = home_data[feature_names]\n",
    "\n",
    "# Check your answer\n",
    "step_2.check()"
   ]
  },
  {
   "cell_type": "code",
   "execution_count": 6,
   "id": "9ad7b74e",
   "metadata": {
    "execution": {
     "iopub.execute_input": "2022-05-03T08:23:51.108094Z",
     "iopub.status.busy": "2022-05-03T08:23:51.107637Z",
     "iopub.status.idle": "2022-05-03T08:23:51.110788Z",
     "shell.execute_reply": "2022-05-03T08:23:51.109975Z"
    },
    "papermill": {
     "duration": 0.022996,
     "end_time": "2022-05-03T08:23:51.112684",
     "exception": false,
     "start_time": "2022-05-03T08:23:51.089688",
     "status": "completed"
    },
    "tags": []
   },
   "outputs": [],
   "source": [
    "# step_2.hint()\n",
    "# step_2.solution()"
   ]
  },
  {
   "cell_type": "markdown",
   "id": "95a09e5b",
   "metadata": {
    "papermill": {
     "duration": 0.016451,
     "end_time": "2022-05-03T08:23:51.147015",
     "exception": false,
     "start_time": "2022-05-03T08:23:51.130564",
     "status": "completed"
    },
    "tags": []
   },
   "source": [
    "## Review Data\n",
    "Before building a model, take a quick look at **X** to verify it looks sensible"
   ]
  },
  {
   "cell_type": "code",
   "execution_count": 7,
   "id": "52bcbc46",
   "metadata": {
    "execution": {
     "iopub.execute_input": "2022-05-03T08:23:51.183116Z",
     "iopub.status.busy": "2022-05-03T08:23:51.182181Z",
     "iopub.status.idle": "2022-05-03T08:23:51.216482Z",
     "shell.execute_reply": "2022-05-03T08:23:51.215809Z"
    },
    "papermill": {
     "duration": 0.054311,
     "end_time": "2022-05-03T08:23:51.218725",
     "exception": false,
     "start_time": "2022-05-03T08:23:51.164414",
     "status": "completed"
    },
    "tags": []
   },
   "outputs": [
    {
     "name": "stdout",
     "output_type": "stream",
     "text": [
      "             LotArea    YearBuilt     1stFlrSF     2ndFlrSF     FullBath  \\\n",
      "count    1460.000000  1460.000000  1460.000000  1460.000000  1460.000000   \n",
      "mean    10516.828082  1971.267808  1162.626712   346.992466     1.565068   \n",
      "std      9981.264932    30.202904   386.587738   436.528436     0.550916   \n",
      "min      1300.000000  1872.000000   334.000000     0.000000     0.000000   \n",
      "25%      7553.500000  1954.000000   882.000000     0.000000     1.000000   \n",
      "50%      9478.500000  1973.000000  1087.000000     0.000000     2.000000   \n",
      "75%     11601.500000  2000.000000  1391.250000   728.000000     2.000000   \n",
      "max    215245.000000  2010.000000  4692.000000  2065.000000     3.000000   \n",
      "\n",
      "       BedroomAbvGr  TotRmsAbvGrd  \n",
      "count   1460.000000   1460.000000  \n",
      "mean       2.866438      6.517808  \n",
      "std        0.815778      1.625393  \n",
      "min        0.000000      2.000000  \n",
      "25%        2.000000      5.000000  \n",
      "50%        3.000000      6.000000  \n",
      "75%        3.000000      7.000000  \n",
      "max        8.000000     14.000000  \n",
      "   LotArea  YearBuilt  1stFlrSF  2ndFlrSF  FullBath  BedroomAbvGr  \\\n",
      "0     8450       2003       856       854         2             3   \n",
      "1     9600       1976      1262         0         2             3   \n",
      "2    11250       2001       920       866         2             3   \n",
      "3     9550       1915       961       756         1             3   \n",
      "4    14260       2000      1145      1053         2             4   \n",
      "\n",
      "   TotRmsAbvGrd  \n",
      "0             8  \n",
      "1             6  \n",
      "2             6  \n",
      "3             7  \n",
      "4             9  \n"
     ]
    }
   ],
   "source": [
    "# Review data\n",
    "# print description or statistics from X\n",
    "print(X.describe())\n",
    "\n",
    "# print the top few lines\n",
    "print(X.head())\n"
   ]
  },
  {
   "cell_type": "markdown",
   "id": "a114735d",
   "metadata": {
    "papermill": {
     "duration": 0.016714,
     "end_time": "2022-05-03T08:23:51.252376",
     "exception": false,
     "start_time": "2022-05-03T08:23:51.235662",
     "status": "completed"
    },
    "tags": []
   },
   "source": [
    "## Step 3: Specify and Fit Model\n",
    "Create a `DecisionTreeRegressor` and save it iowa_model. Ensure you've done the relevant import from sklearn to run this command.\n",
    "\n",
    "Then fit the model you just created using the data in `X` and `y` that you saved above."
   ]
  },
  {
   "cell_type": "code",
   "execution_count": 8,
   "id": "fb937983",
   "metadata": {
    "execution": {
     "iopub.execute_input": "2022-05-03T08:23:51.287972Z",
     "iopub.status.busy": "2022-05-03T08:23:51.287174Z",
     "iopub.status.idle": "2022-05-03T08:23:51.304714Z",
     "shell.execute_reply": "2022-05-03T08:23:51.304092Z"
    },
    "papermill": {
     "duration": 0.037227,
     "end_time": "2022-05-03T08:23:51.306422",
     "exception": false,
     "start_time": "2022-05-03T08:23:51.269195",
     "status": "completed"
    },
    "tags": []
   },
   "outputs": [
    {
     "data": {
      "application/javascript": [
       "parent.postMessage({\"jupyterEvent\": \"custom.exercise_interaction\", \"data\": {\"outcomeType\": 1, \"valueTowardsCompletion\": 0.25, \"interactionType\": 1, \"questionType\": 2, \"questionId\": \"3_CreateModel\", \"learnToolsVersion\": \"0.3.4\", \"failureMessage\": \"\", \"exceptionClass\": \"\", \"trace\": \"\"}}, \"*\")"
      ],
      "text/plain": [
       "<IPython.core.display.Javascript object>"
      ]
     },
     "metadata": {},
     "output_type": "display_data"
    },
    {
     "data": {
      "text/markdown": [
       "<span style=\"color:#33cc33\">Correct</span>"
      ],
      "text/plain": [
       "Correct"
      ]
     },
     "metadata": {},
     "output_type": "display_data"
    }
   ],
   "source": [
    "from sklearn.tree import DecisionTreeRegressor\n",
    "#specify the model. \n",
    "#For model reproducibility, set a numeric value for random_state when specifying the model\n",
    "iowa_model = DecisionTreeRegressor(random_state=1)\n",
    "\n",
    "# Fit the model\n",
    "iowa_model.fit(X,y)\n",
    "\n",
    "# Check your answer\n",
    "step_3.check()"
   ]
  },
  {
   "cell_type": "code",
   "execution_count": 9,
   "id": "e7c56300",
   "metadata": {
    "collapsed": true,
    "execution": {
     "iopub.execute_input": "2022-05-03T08:23:51.344297Z",
     "iopub.status.busy": "2022-05-03T08:23:51.343703Z",
     "iopub.status.idle": "2022-05-03T08:23:51.346800Z",
     "shell.execute_reply": "2022-05-03T08:23:51.346183Z"
    },
    "jupyter": {
     "outputs_hidden": true
    },
    "papermill": {
     "duration": 0.024309,
     "end_time": "2022-05-03T08:23:51.348436",
     "exception": false,
     "start_time": "2022-05-03T08:23:51.324127",
     "status": "completed"
    },
    "tags": []
   },
   "outputs": [],
   "source": [
    "# step_3.hint()\n",
    "# step_3.solution()"
   ]
  },
  {
   "cell_type": "markdown",
   "id": "9abe86a1",
   "metadata": {
    "papermill": {
     "duration": 0.017719,
     "end_time": "2022-05-03T08:23:51.384312",
     "exception": false,
     "start_time": "2022-05-03T08:23:51.366593",
     "status": "completed"
    },
    "tags": []
   },
   "source": [
    "## Step 4: Make Predictions\n",
    "Make predictions with the model's `predict` command using `X` as the data. Save the results to a variable called `predictions`."
   ]
  },
  {
   "cell_type": "code",
   "execution_count": 10,
   "id": "9de571ac",
   "metadata": {
    "execution": {
     "iopub.execute_input": "2022-05-03T08:23:51.421929Z",
     "iopub.status.busy": "2022-05-03T08:23:51.421417Z",
     "iopub.status.idle": "2022-05-03T08:23:51.433457Z",
     "shell.execute_reply": "2022-05-03T08:23:51.432793Z"
    },
    "papermill": {
     "duration": 0.033001,
     "end_time": "2022-05-03T08:23:51.435216",
     "exception": false,
     "start_time": "2022-05-03T08:23:51.402215",
     "status": "completed"
    },
    "tags": []
   },
   "outputs": [
    {
     "name": "stdout",
     "output_type": "stream",
     "text": [
      "[208500. 181500. 223500. ... 266500. 142125. 147500.]\n"
     ]
    },
    {
     "data": {
      "application/javascript": [
       "parent.postMessage({\"jupyterEvent\": \"custom.exercise_interaction\", \"data\": {\"outcomeType\": 1, \"valueTowardsCompletion\": 0.25, \"interactionType\": 1, \"questionType\": 2, \"questionId\": \"4_MakePredictions\", \"learnToolsVersion\": \"0.3.4\", \"failureMessage\": \"\", \"exceptionClass\": \"\", \"trace\": \"\"}}, \"*\")"
      ],
      "text/plain": [
       "<IPython.core.display.Javascript object>"
      ]
     },
     "metadata": {},
     "output_type": "display_data"
    },
    {
     "data": {
      "text/markdown": [
       "<span style=\"color:#33cc33\">Correct</span>"
      ],
      "text/plain": [
       "Correct"
      ]
     },
     "metadata": {},
     "output_type": "display_data"
    }
   ],
   "source": [
    "predictions = iowa_model.predict(X)\n",
    "print(predictions)\n",
    "\n",
    "# Check your answer\n",
    "step_4.check()"
   ]
  },
  {
   "cell_type": "code",
   "execution_count": 11,
   "id": "c01b3d1c",
   "metadata": {
    "execution": {
     "iopub.execute_input": "2022-05-03T08:23:51.474565Z",
     "iopub.status.busy": "2022-05-03T08:23:51.474292Z",
     "iopub.status.idle": "2022-05-03T08:23:51.477653Z",
     "shell.execute_reply": "2022-05-03T08:23:51.476757Z"
    },
    "papermill": {
     "duration": 0.02522,
     "end_time": "2022-05-03T08:23:51.479556",
     "exception": false,
     "start_time": "2022-05-03T08:23:51.454336",
     "status": "completed"
    },
    "tags": []
   },
   "outputs": [],
   "source": [
    "# step_4.hint()\n",
    "# step_4.solution()"
   ]
  },
  {
   "cell_type": "markdown",
   "id": "6877e677",
   "metadata": {
    "papermill": {
     "duration": 0.01874,
     "end_time": "2022-05-03T08:23:51.517808",
     "exception": false,
     "start_time": "2022-05-03T08:23:51.499068",
     "status": "completed"
    },
    "tags": []
   },
   "source": [
    "## Think About Your Results\n",
    "\n",
    "Use the `head` method to compare the top few predictions to the actual home values (in `y`) for those same homes. Anything surprising?\n"
   ]
  },
  {
   "cell_type": "code",
   "execution_count": 12,
   "id": "c17ca499",
   "metadata": {
    "execution": {
     "iopub.execute_input": "2022-05-03T08:23:51.557224Z",
     "iopub.status.busy": "2022-05-03T08:23:51.556928Z",
     "iopub.status.idle": "2022-05-03T08:23:51.563854Z",
     "shell.execute_reply": "2022-05-03T08:23:51.562610Z"
    },
    "papermill": {
     "duration": 0.028923,
     "end_time": "2022-05-03T08:23:51.565872",
     "exception": false,
     "start_time": "2022-05-03T08:23:51.536949",
     "status": "completed"
    },
    "tags": []
   },
   "outputs": [
    {
     "name": "stdout",
     "output_type": "stream",
     "text": [
      "[208500. 181500. 223500. 140000. 250000.]\n"
     ]
    }
   ],
   "source": [
    "# You can write code in this cell\n",
    "predictions = iowa_model.predict(X.head())\n",
    "print(predictions)"
   ]
  },
  {
   "cell_type": "markdown",
   "id": "d5c39e96",
   "metadata": {
    "papermill": {
     "duration": 0.018969,
     "end_time": "2022-05-03T08:23:51.604085",
     "exception": false,
     "start_time": "2022-05-03T08:23:51.585116",
     "status": "completed"
    },
    "tags": []
   },
   "source": [
    "It's natural to ask how accurate the model's predictions will be and how you can improve that. That will be you're next step.\n",
    "\n",
    "# Keep Going\n",
    "\n",
    "You are ready for **[Model Validation](https://www.kaggle.com/dansbecker/model-validation).**\n"
   ]
  },
  {
   "cell_type": "markdown",
   "id": "2671c718",
   "metadata": {
    "papermill": {
     "duration": 0.019089,
     "end_time": "2022-05-03T08:23:51.642448",
     "exception": false,
     "start_time": "2022-05-03T08:23:51.623359",
     "status": "completed"
    },
    "tags": []
   },
   "source": [
    "---\n",
    "\n",
    "\n",
    "\n",
    "\n",
    "*Have questions or comments? Visit the [course discussion forum](https://www.kaggle.com/learn/intro-to-machine-learning/discussion) to chat with other learners.*"
   ]
  }
 ],
 "metadata": {
  "kernelspec": {
   "display_name": "Python 3",
   "language": "python",
   "name": "python3"
  },
  "language_info": {
   "codemirror_mode": {
    "name": "ipython",
    "version": 3
   },
   "file_extension": ".py",
   "mimetype": "text/x-python",
   "name": "python",
   "nbconvert_exporter": "python",
   "pygments_lexer": "ipython3",
   "version": "3.7.12"
  },
  "papermill": {
   "default_parameters": {},
   "duration": 13.571788,
   "end_time": "2022-05-03T08:23:52.382394",
   "environment_variables": {},
   "exception": null,
   "input_path": "__notebook__.ipynb",
   "output_path": "__notebook__.ipynb",
   "parameters": {},
   "start_time": "2022-05-03T08:23:38.810606",
   "version": "2.3.4"
  }
 },
 "nbformat": 4,
 "nbformat_minor": 5
}
