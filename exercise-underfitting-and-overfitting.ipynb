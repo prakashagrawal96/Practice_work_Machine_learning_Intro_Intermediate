{
 "cells": [
  {
   "cell_type": "markdown",
   "id": "192496ff",
   "metadata": {
    "papermill": {
     "duration": 0.01264,
     "end_time": "2022-05-04T06:03:22.021570",
     "exception": false,
     "start_time": "2022-05-04T06:03:22.008930",
     "status": "completed"
    },
    "tags": []
   },
   "source": [
    "**This notebook is an exercise in the [Introduction to Machine Learning](https://www.kaggle.com/learn/intro-to-machine-learning) course.  You can reference the tutorial at [this link](https://www.kaggle.com/dansbecker/underfitting-and-overfitting).**\n",
    "\n",
    "---\n"
   ]
  },
  {
   "cell_type": "markdown",
   "id": "f00cebae",
   "metadata": {
    "papermill": {
     "duration": 0.011094,
     "end_time": "2022-05-04T06:03:22.044365",
     "exception": false,
     "start_time": "2022-05-04T06:03:22.033271",
     "status": "completed"
    },
    "tags": []
   },
   "source": [
    "## Recap\n",
    "You've built your first model, and now it's time to optimize the size of the tree to make better predictions. Run this cell to set up your coding environment where the previous step left off."
   ]
  },
  {
   "cell_type": "code",
   "execution_count": 1,
   "id": "e3aab3a7",
   "metadata": {
    "execution": {
     "iopub.execute_input": "2022-05-04T06:03:22.069931Z",
     "iopub.status.busy": "2022-05-04T06:03:22.069341Z",
     "iopub.status.idle": "2022-05-04T06:03:23.418631Z",
     "shell.execute_reply": "2022-05-04T06:03:23.417291Z"
    },
    "papermill": {
     "duration": 1.365178,
     "end_time": "2022-05-04T06:03:23.421220",
     "exception": false,
     "start_time": "2022-05-04T06:03:22.056042",
     "status": "completed"
    },
    "tags": []
   },
   "outputs": [
    {
     "name": "stdout",
     "output_type": "stream",
     "text": [
      "Validation MAE: 29,653\n",
      "\n",
      "Setup complete\n"
     ]
    }
   ],
   "source": [
    "# Code you have previously used to load data\n",
    "import pandas as pd\n",
    "from sklearn.metrics import mean_absolute_error\n",
    "from sklearn.model_selection import train_test_split\n",
    "from sklearn.tree import DecisionTreeRegressor\n",
    "\n",
    "\n",
    "# Path of the file to read\n",
    "iowa_file_path = '../input/home-data-for-ml-course/train.csv'\n",
    "\n",
    "home_data = pd.read_csv(iowa_file_path)\n",
    "# Create target object and call it y\n",
    "y = home_data.SalePrice\n",
    "# Create X\n",
    "features = ['LotArea', 'YearBuilt', '1stFlrSF', '2ndFlrSF', 'FullBath', 'BedroomAbvGr', 'TotRmsAbvGrd']\n",
    "X = home_data[features]\n",
    "\n",
    "# Split into validation and training data\n",
    "train_X, val_X, train_y, val_y = train_test_split(X, y, random_state=1)\n",
    "\n",
    "# Specify Model\n",
    "iowa_model = DecisionTreeRegressor(random_state=1)\n",
    "# Fit Model\n",
    "iowa_model.fit(train_X, train_y)\n",
    "\n",
    "# Make validation predictions and calculate mean absolute error\n",
    "val_predictions = iowa_model.predict(val_X)\n",
    "val_mae = mean_absolute_error(val_predictions, val_y)\n",
    "print(\"Validation MAE: {:,.0f}\".format(val_mae))\n",
    "\n",
    "# Set up code checking\n",
    "from learntools.core import binder\n",
    "binder.bind(globals())\n",
    "from learntools.machine_learning.ex5 import *\n",
    "print(\"\\nSetup complete\")"
   ]
  },
  {
   "cell_type": "markdown",
   "id": "bf566271",
   "metadata": {
    "papermill": {
     "duration": 0.011815,
     "end_time": "2022-05-04T06:03:23.446148",
     "exception": false,
     "start_time": "2022-05-04T06:03:23.434333",
     "status": "completed"
    },
    "tags": []
   },
   "source": [
    "# Exercises\n",
    "You could write the function `get_mae` yourself. For now, we'll supply it. This is the same function you read about in the previous lesson. Just run the cell below."
   ]
  },
  {
   "cell_type": "code",
   "execution_count": 2,
   "id": "b9174c90",
   "metadata": {
    "execution": {
     "iopub.execute_input": "2022-05-04T06:03:23.472359Z",
     "iopub.status.busy": "2022-05-04T06:03:23.471139Z",
     "iopub.status.idle": "2022-05-04T06:03:23.477678Z",
     "shell.execute_reply": "2022-05-04T06:03:23.476791Z"
    },
    "papermill": {
     "duration": 0.02172,
     "end_time": "2022-05-04T06:03:23.479735",
     "exception": false,
     "start_time": "2022-05-04T06:03:23.458015",
     "status": "completed"
    },
    "tags": []
   },
   "outputs": [],
   "source": [
    "def get_mae(max_leaf_nodes, train_X, val_X, train_y, val_y):\n",
    "    model = DecisionTreeRegressor(max_leaf_nodes=max_leaf_nodes, random_state=0)\n",
    "    model.fit(train_X, train_y)\n",
    "    preds_val = model.predict(val_X)\n",
    "    mae = mean_absolute_error(val_y, preds_val)\n",
    "    return(mae)"
   ]
  },
  {
   "cell_type": "markdown",
   "id": "b68d8521",
   "metadata": {
    "papermill": {
     "duration": 0.011608,
     "end_time": "2022-05-04T06:03:23.503417",
     "exception": false,
     "start_time": "2022-05-04T06:03:23.491809",
     "status": "completed"
    },
    "tags": []
   },
   "source": [
    "## Step 1: Compare Different Tree Sizes\n",
    "Write a loop that tries the following values for *max_leaf_nodes* from a set of possible values.\n",
    "\n",
    "Call the *get_mae* function on each value of max_leaf_nodes. Store the output in some way that allows you to select the value of `max_leaf_nodes` that gives the most accurate model on your data."
   ]
  },
  {
   "cell_type": "code",
   "execution_count": 3,
   "id": "d50d7e3f",
   "metadata": {
    "execution": {
     "iopub.execute_input": "2022-05-04T06:03:23.529112Z",
     "iopub.status.busy": "2022-05-04T06:03:23.528278Z",
     "iopub.status.idle": "2022-05-04T06:03:23.574612Z",
     "shell.execute_reply": "2022-05-04T06:03:23.574062Z"
    },
    "papermill": {
     "duration": 0.061342,
     "end_time": "2022-05-04T06:03:23.576638",
     "exception": false,
     "start_time": "2022-05-04T06:03:23.515296",
     "status": "completed"
    },
    "tags": []
   },
   "outputs": [
    {
     "data": {
      "application/javascript": [
       "parent.postMessage({\"jupyterEvent\": \"custom.exercise_interaction\", \"data\": {\"outcomeType\": 1, \"valueTowardsCompletion\": 0.5, \"interactionType\": 1, \"questionType\": 1, \"questionId\": \"1_BestTreeSize\", \"learnToolsVersion\": \"0.3.4\", \"failureMessage\": \"\", \"exceptionClass\": \"\", \"trace\": \"\"}}, \"*\")"
      ],
      "text/plain": [
       "<IPython.core.display.Javascript object>"
      ]
     },
     "metadata": {},
     "output_type": "display_data"
    },
    {
     "data": {
      "text/markdown": [
       "<span style=\"color:#33cc33\">Correct</span>"
      ],
      "text/plain": [
       "Correct"
      ]
     },
     "metadata": {},
     "output_type": "display_data"
    }
   ],
   "source": [
    "candidate_max_leaf_nodes = [5, 25, 50, 100, 250, 500]\n",
    "# Write loop to find the ideal tree size from candidate_max_leaf_nodes\n",
    "scores = {leaf_size: get_mae(leaf_size, train_X, val_X, train_y, val_y) for leaf_size in candidate_max_leaf_nodes}\n",
    "\n",
    "\n",
    "# Store the best value of max_leaf_nodes (it will be either 5, 25, 50, 100, 250 or 500)\n",
    "best_tree_size = min(scores, key=scores.get)\n",
    "\n",
    "# Check your answer\n",
    "step_1.check()"
   ]
  },
  {
   "cell_type": "code",
   "execution_count": 4,
   "id": "15df0271",
   "metadata": {
    "execution": {
     "iopub.execute_input": "2022-05-04T06:03:23.604752Z",
     "iopub.status.busy": "2022-05-04T06:03:23.604065Z",
     "iopub.status.idle": "2022-05-04T06:03:23.608210Z",
     "shell.execute_reply": "2022-05-04T06:03:23.607297Z"
    },
    "papermill": {
     "duration": 0.020378,
     "end_time": "2022-05-04T06:03:23.610161",
     "exception": false,
     "start_time": "2022-05-04T06:03:23.589783",
     "status": "completed"
    },
    "tags": []
   },
   "outputs": [],
   "source": [
    "# The lines below will show you a hint or the solution.\n",
    "# step_1.hint() \n",
    "# step_1.solution()"
   ]
  },
  {
   "cell_type": "markdown",
   "id": "37721f91",
   "metadata": {
    "papermill": {
     "duration": 0.01285,
     "end_time": "2022-05-04T06:03:23.636039",
     "exception": false,
     "start_time": "2022-05-04T06:03:23.623189",
     "status": "completed"
    },
    "tags": []
   },
   "source": [
    "## Step 2: Fit Model Using All Data\n",
    "You know the best tree size. If you were going to deploy this model in practice, you would make it even more accurate by using all of the data and keeping that tree size.  That is, you don't need to hold out the validation data now that you've made all your modeling decisions."
   ]
  },
  {
   "cell_type": "code",
   "execution_count": 5,
   "id": "a527fdd0",
   "metadata": {
    "execution": {
     "iopub.execute_input": "2022-05-04T06:03:23.664395Z",
     "iopub.status.busy": "2022-05-04T06:03:23.663943Z",
     "iopub.status.idle": "2022-05-04T06:03:23.680443Z",
     "shell.execute_reply": "2022-05-04T06:03:23.679589Z"
    },
    "papermill": {
     "duration": 0.033269,
     "end_time": "2022-05-04T06:03:23.682439",
     "exception": false,
     "start_time": "2022-05-04T06:03:23.649170",
     "status": "completed"
    },
    "tags": []
   },
   "outputs": [
    {
     "data": {
      "application/javascript": [
       "parent.postMessage({\"jupyterEvent\": \"custom.exercise_interaction\", \"data\": {\"outcomeType\": 1, \"valueTowardsCompletion\": 0.5, \"interactionType\": 1, \"questionType\": 2, \"questionId\": \"2_FitModelWithAllData\", \"learnToolsVersion\": \"0.3.4\", \"failureMessage\": \"\", \"exceptionClass\": \"\", \"trace\": \"\"}}, \"*\")"
      ],
      "text/plain": [
       "<IPython.core.display.Javascript object>"
      ]
     },
     "metadata": {},
     "output_type": "display_data"
    },
    {
     "data": {
      "text/markdown": [
       "<span style=\"color:#33cc33\">Correct</span>"
      ],
      "text/plain": [
       "Correct"
      ]
     },
     "metadata": {},
     "output_type": "display_data"
    }
   ],
   "source": [
    "# Fill in argument to make optimal size and uncomment\n",
    "\n",
    "final_model = DecisionTreeRegressor(max_leaf_nodes=best_tree_size, random_state=1)\n",
    "\n",
    "# fit the final model and uncomment the next two lines\n",
    "final_model.fit(X, y)\n",
    "\n",
    "# Check your answer\n",
    "step_2.check()"
   ]
  },
  {
   "cell_type": "code",
   "execution_count": 6,
   "id": "a6270988",
   "metadata": {
    "execution": {
     "iopub.execute_input": "2022-05-04T06:03:23.713738Z",
     "iopub.status.busy": "2022-05-04T06:03:23.713465Z",
     "iopub.status.idle": "2022-05-04T06:03:23.716931Z",
     "shell.execute_reply": "2022-05-04T06:03:23.716056Z"
    },
    "papermill": {
     "duration": 0.021447,
     "end_time": "2022-05-04T06:03:23.718843",
     "exception": false,
     "start_time": "2022-05-04T06:03:23.697396",
     "status": "completed"
    },
    "tags": []
   },
   "outputs": [],
   "source": [
    "# step_2.hint()\n",
    "# step_2.solution()"
   ]
  },
  {
   "cell_type": "markdown",
   "id": "ba6bead9",
   "metadata": {
    "papermill": {
     "duration": 0.013797,
     "end_time": "2022-05-04T06:03:23.746980",
     "exception": false,
     "start_time": "2022-05-04T06:03:23.733183",
     "status": "completed"
    },
    "tags": []
   },
   "source": [
    "You've tuned this model and improved your results. But we are still using Decision Tree models, which are not very sophisticated by modern machine learning standards. In the next step you will learn to use Random Forests to improve your models even more.\n",
    "\n",
    "# Keep Going\n",
    "\n",
    "You are ready for **[Random Forests](https://www.kaggle.com/dansbecker/random-forests).**\n"
   ]
  },
  {
   "cell_type": "markdown",
   "id": "569f10e2",
   "metadata": {
    "papermill": {
     "duration": 0.013816,
     "end_time": "2022-05-04T06:03:23.775264",
     "exception": false,
     "start_time": "2022-05-04T06:03:23.761448",
     "status": "completed"
    },
    "tags": []
   },
   "source": [
    "---\n",
    "\n",
    "\n",
    "\n",
    "\n",
    "*Have questions or comments? Visit the [course discussion forum](https://www.kaggle.com/learn/intro-to-machine-learning/discussion) to chat with other learners.*"
   ]
  }
 ],
 "metadata": {
  "kernelspec": {
   "display_name": "Python 3",
   "language": "python",
   "name": "python3"
  },
  "language_info": {
   "codemirror_mode": {
    "name": "ipython",
    "version": 3
   },
   "file_extension": ".py",
   "mimetype": "text/x-python",
   "name": "python",
   "nbconvert_exporter": "python",
   "pygments_lexer": "ipython3",
   "version": "3.7.12"
  },
  "papermill": {
   "default_parameters": {},
   "duration": 12.406145,
   "end_time": "2022-05-04T06:03:24.509269",
   "environment_variables": {},
   "exception": null,
   "input_path": "__notebook__.ipynb",
   "output_path": "__notebook__.ipynb",
   "parameters": {},
   "start_time": "2022-05-04T06:03:12.103124",
   "version": "2.3.4"
  }
 },
 "nbformat": 4,
 "nbformat_minor": 5
}
